{
 "cells": [
  {
   "cell_type": "code",
   "execution_count": 28,
   "metadata": {},
   "outputs": [],
   "source": [
    "import win32pdhutil\n",
    "import win32pdh\n",
    "import time"
   ]
  },
  {
   "cell_type": "code",
   "execution_count": 29,
   "metadata": {},
   "outputs": [],
   "source": [
    "def GetPerformanceAttributes(object, counter, instance = None, inum=-1,\n",
    "                             format = win32pdh.PDH_FMT_LONG, machine=None):\n",
    "    # NOTE: Many counters require 2 samples to give accurate results,\n",
    "    # including \"% Processor Time\" (as by definition, at any instant, a\n",
    "    # thread's CPU usage is either 0 or 100).  To read counters like this,\n",
    "    # you should copy this function, but keep the counter open, and call\n",
    "    # CollectQueryData() each time you need to know.\n",
    "    # See http://support.microsoft.com/default.aspx?scid=kb;EN-US;q262938\n",
    "    # and http://msdn.microsoft.com/library/en-us/dnperfmo/html/perfmonpt2.asp\n",
    "    # My older explanation for this was that the \"AddCounter\" process forced\n",
    "    # the CPU to 100%, but the above makes more sense :)\n",
    "    path = win32pdh.MakeCounterPath( (machine,object,instance, None, inum,counter) )\n",
    "    hq = win32pdh.OpenQuery()\n",
    "    try:\n",
    "        hc = win32pdh.AddCounter(hq, path)\n",
    "        try:\n",
    "            win32pdh.CollectQueryData(hq)\n",
    "            time.sleep(1)\n",
    "            win32pdh.CollectQueryData(hq)\n",
    "            type, val = win32pdh.GetFormattedCounterValue(hc, format)\n",
    "            return val\n",
    "        finally:\n",
    "            win32pdh.RemoveCounter(hc)\n",
    "    finally:\n",
    "        win32pdh.CloseQuery(hq)"
   ]
  },
  {
   "cell_type": "code",
   "execution_count": 30,
   "metadata": {},
   "outputs": [],
   "source": [
    "import os\n",
    "os.environ['http_proxy'] = \"http://proxy-chain.intel.com:911\" \n",
    "os.environ['https_proxy'] = \"http://proxy-chain.intel.com:912\" \n"
   ]
  },
  {
   "cell_type": "code",
   "execution_count": 31,
   "metadata": {},
   "outputs": [
    {
     "name": "stdout",
     "output_type": "stream",
     "text": [
      "Requirement already satisfied: plotly in c:\\users\\loht\\miniconda3\\lib\\site-packages (5.14.1)\n",
      "Requirement already satisfied: ipywidgets in c:\\users\\loht\\miniconda3\\lib\\site-packages (8.0.6)\n",
      "Requirement already satisfied: tenacity>=6.2.0 in c:\\users\\loht\\miniconda3\\lib\\site-packages (from plotly) (8.2.2)\n",
      "Requirement already satisfied: packaging in c:\\users\\loht\\miniconda3\\lib\\site-packages (from plotly) (21.3)\n",
      "Requirement already satisfied: traitlets>=4.3.1 in c:\\users\\loht\\miniconda3\\lib\\site-packages (from ipywidgets) (5.1.1)\n",
      "Requirement already satisfied: ipython>=6.1.0 in c:\\users\\loht\\miniconda3\\lib\\site-packages (from ipywidgets) (7.31.1)\n",
      "Requirement already satisfied: widgetsnbextension~=4.0.7 in c:\\users\\loht\\miniconda3\\lib\\site-packages (from ipywidgets) (4.0.7)\n",
      "Requirement already satisfied: ipykernel>=4.5.1 in c:\\users\\loht\\miniconda3\\lib\\site-packages (from ipywidgets) (6.15.2)\n",
      "Requirement already satisfied: jupyterlab-widgets~=3.0.7 in c:\\users\\loht\\miniconda3\\lib\\site-packages (from ipywidgets) (3.0.7)\n",
      "Requirement already satisfied: psutil in c:\\users\\loht\\miniconda3\\lib\\site-packages (from ipykernel>=4.5.1->ipywidgets) (5.9.0)\n",
      "Requirement already satisfied: jupyter-client>=6.1.12 in c:\\users\\loht\\miniconda3\\lib\\site-packages (from ipykernel>=4.5.1->ipywidgets) (7.4.7)\n",
      "Requirement already satisfied: matplotlib-inline>=0.1 in c:\\users\\loht\\miniconda3\\lib\\site-packages (from ipykernel>=4.5.1->ipywidgets) (0.1.6)\n",
      "Requirement already satisfied: debugpy>=1.0 in c:\\users\\loht\\miniconda3\\lib\\site-packages (from ipykernel>=4.5.1->ipywidgets) (1.5.1)\n",
      "Requirement already satisfied: tornado>=6.1 in c:\\users\\loht\\miniconda3\\lib\\site-packages (from ipykernel>=4.5.1->ipywidgets) (6.2)\n",
      "Requirement already satisfied: pyzmq>=17 in c:\\users\\loht\\miniconda3\\lib\\site-packages (from ipykernel>=4.5.1->ipywidgets) (23.2.0)\n",
      "Requirement already satisfied: nest-asyncio in c:\\users\\loht\\miniconda3\\lib\\site-packages (from ipykernel>=4.5.1->ipywidgets) (1.5.5)\n",
      "Requirement already satisfied: colorama in c:\\users\\loht\\miniconda3\\lib\\site-packages (from ipython>=6.1.0->ipywidgets) (0.4.5)\n",
      "Requirement already satisfied: prompt-toolkit!=3.0.0,!=3.0.1,<3.1.0,>=2.0.0 in c:\\users\\loht\\miniconda3\\lib\\site-packages (from ipython>=6.1.0->ipywidgets) (3.0.20)\n",
      "Requirement already satisfied: jedi>=0.16 in c:\\users\\loht\\miniconda3\\lib\\site-packages (from ipython>=6.1.0->ipywidgets) (0.18.1)\n",
      "Requirement already satisfied: pygments in c:\\users\\loht\\miniconda3\\lib\\site-packages (from ipython>=6.1.0->ipywidgets) (2.11.2)\n",
      "Requirement already satisfied: decorator in c:\\users\\loht\\miniconda3\\lib\\site-packages (from ipython>=6.1.0->ipywidgets) (5.1.1)\n",
      "Requirement already satisfied: pickleshare in c:\\users\\loht\\miniconda3\\lib\\site-packages (from ipython>=6.1.0->ipywidgets) (0.7.5)\n",
      "Requirement already satisfied: backcall in c:\\users\\loht\\miniconda3\\lib\\site-packages (from ipython>=6.1.0->ipywidgets) (0.2.0)\n",
      "Requirement already satisfied: setuptools>=18.5 in c:\\users\\loht\\miniconda3\\lib\\site-packages (from ipython>=6.1.0->ipywidgets) (61.2.0)\n",
      "Requirement already satisfied: parso<0.9.0,>=0.8.0 in c:\\users\\loht\\miniconda3\\lib\\site-packages (from jedi>=0.16->ipython>=6.1.0->ipywidgets) (0.8.3)\n",
      "Requirement already satisfied: jupyter-core>=4.9.2 in c:\\users\\loht\\miniconda3\\lib\\site-packages (from jupyter-client>=6.1.12->ipykernel>=4.5.1->ipywidgets) (4.11.2)\n",
      "Requirement already satisfied: python-dateutil>=2.8.2 in c:\\users\\loht\\miniconda3\\lib\\site-packages (from jupyter-client>=6.1.12->ipykernel>=4.5.1->ipywidgets) (2.8.2)\n",
      "Requirement already satisfied: entrypoints in c:\\users\\loht\\miniconda3\\lib\\site-packages (from jupyter-client>=6.1.12->ipykernel>=4.5.1->ipywidgets) (0.4)\n",
      "Requirement already satisfied: pywin32>=1.0 in c:\\users\\loht\\miniconda3\\lib\\site-packages (from jupyter-core>=4.9.2->jupyter-client>=6.1.12->ipykernel>=4.5.1->ipywidgets) (302)\n",
      "Requirement already satisfied: wcwidth in c:\\users\\loht\\miniconda3\\lib\\site-packages (from prompt-toolkit!=3.0.0,!=3.0.1,<3.1.0,>=2.0.0->ipython>=6.1.0->ipywidgets) (0.2.5)\n",
      "Requirement already satisfied: six>=1.5 in c:\\users\\loht\\miniconda3\\lib\\site-packages (from python-dateutil>=2.8.2->jupyter-client>=6.1.12->ipykernel>=4.5.1->ipywidgets) (1.16.0)\n",
      "Requirement already satisfied: pyparsing!=3.0.5,>=2.0.2 in c:\\users\\loht\\miniconda3\\lib\\site-packages (from packaging->plotly) (3.0.9)\n",
      "Note: you may need to restart the kernel to use updated packages.\n"
     ]
    }
   ],
   "source": [
    "%pip install plotly ipywidgets"
   ]
  },
  {
   "cell_type": "code",
   "execution_count": 32,
   "metadata": {},
   "outputs": [
    {
     "data": {
      "application/vnd.plotly.v1+json": {
       "config": {
        "plotlyServerURL": "https://plot.ly"
       },
       "data": [
        {
         "mode": "lines+markers",
         "name": "% Idle Time",
         "type": "scatter",
         "x": [
          "2023-06-02T10:25:11.557993",
          "2023-06-02T10:25:13.681123",
          "2023-06-02T10:25:15.812075",
          "2023-06-02T10:25:17.937081",
          "2023-06-02T10:25:20.063120",
          "2023-06-02T10:25:22.183436",
          "2023-06-02T10:25:24.496406",
          "2023-06-02T10:25:26.620577",
          "2023-06-02T10:25:28.739454",
          "2023-06-02T10:25:30.917957",
          "2023-06-02T10:25:33.040288",
          "2023-06-02T10:25:35.179417",
          "2023-06-02T10:25:37.302354",
          "2023-06-02T10:25:39.427252",
          "2023-06-02T10:25:41.546388",
          "2023-06-02T10:25:43.667396",
          "2023-06-02T10:25:45.788243",
          "2023-06-02T10:25:47.910620",
          "2023-06-02T10:25:50.034648",
          "2023-06-02T10:25:52.156997",
          "2023-06-02T10:25:54.281360",
          "2023-06-02T10:25:56.442672",
          "2023-06-02T10:25:58.561966",
          "2023-06-02T10:26:00.688633",
          "2023-06-02T10:26:02.812474",
          "2023-06-02T10:26:04.938304",
          "2023-06-02T10:26:07.058501",
          "2023-06-02T10:26:09.197486",
          "2023-06-02T10:26:11.320016",
          "2023-06-02T10:26:13.440915",
          "2023-06-02T10:26:15.566599",
          "2023-06-02T10:26:17.692503",
          "2023-06-02T10:26:19.817295",
          "2023-06-02T10:26:21.945277",
          "2023-06-02T10:26:24.070144",
          "2023-06-02T10:26:26.196505",
          "2023-06-02T10:26:28.315539",
          "2023-06-02T10:26:30.431894",
          "2023-06-02T10:26:32.562917",
          "2023-06-02T10:26:34.689849",
          "2023-06-02T10:26:36.809465",
          "2023-06-02T10:26:38.936348",
          "2023-06-02T10:26:41.068529",
          "2023-06-02T10:26:43.192539",
          "2023-06-02T10:26:45.311191",
          "2023-06-02T10:26:47.437447",
          "2023-06-02T10:26:49.554617",
          "2023-06-02T10:26:51.678755",
          "2023-06-02T10:26:53.848558",
          "2023-06-02T10:26:55.979163",
          "2023-06-02T10:26:58.106908",
          "2023-06-02T10:27:00.228862",
          "2023-06-02T10:27:02.599169",
          "2023-06-02T10:27:05.134293",
          "2023-06-02T10:27:07.333952",
          "2023-06-02T10:27:09.461334",
          "2023-06-02T10:27:11.585712",
          "2023-06-02T10:27:13.716017",
          "2023-06-02T10:27:15.844289",
          "2023-06-02T10:27:17.966084",
          "2023-06-02T10:27:20.096733",
          "2023-06-02T10:27:22.216440",
          "2023-06-02T10:27:24.343579",
          "2023-06-02T10:27:26.473747",
          "2023-06-02T10:27:28.603904",
          "2023-06-02T10:27:30.733717",
          "2023-06-02T10:27:32.883712",
          "2023-06-02T10:27:35.078723",
          "2023-06-02T10:27:37.243043",
          "2023-06-02T10:27:39.373694",
          "2023-06-02T10:27:41.504225",
          "2023-06-02T10:27:43.634266",
          "2023-06-02T10:27:45.759569",
          "2023-06-02T10:27:47.908564",
          "2023-06-02T10:27:50.045664",
          "2023-06-02T10:27:52.178281",
          "2023-06-02T10:27:54.305693",
          "2023-06-02T10:27:56.455405",
          "2023-06-02T10:27:58.586144",
          "2023-06-02T10:28:00.718481",
          "2023-06-02T10:28:02.850482",
          "2023-06-02T10:28:04.985368",
          "2023-06-02T10:28:07.173269",
          "2023-06-02T10:28:09.300273",
          "2023-06-02T10:28:11.438692",
          "2023-06-02T10:28:13.564641",
          "2023-06-02T10:28:15.725126",
          "2023-06-02T10:28:17.846334",
          "2023-06-02T10:28:19.990684",
          "2023-06-02T10:28:22.119274",
          "2023-06-02T10:28:24.243354",
          "2023-06-02T10:28:26.370642",
          "2023-06-02T10:28:28.499275",
          "2023-06-02T10:28:30.625024",
          "2023-06-02T10:28:32.774587",
          "2023-06-02T10:28:34.907796",
          "2023-06-02T10:28:37.054600",
          "2023-06-02T10:28:39.203459",
          "2023-06-02T10:28:41.332516",
          "2023-06-02T10:28:43.477435"
         ],
         "y": [
          69,
          76,
          76,
          82,
          72,
          75,
          71,
          82,
          72,
          35,
          82,
          72,
          78,
          71,
          81,
          77,
          70,
          75,
          77,
          82,
          62,
          65,
          80,
          76,
          82,
          74,
          82,
          59,
          75,
          82,
          77,
          83,
          64,
          55,
          73,
          75,
          82,
          76,
          82,
          71,
          82,
          76,
          68,
          78,
          78,
          68,
          70,
          70,
          75,
          77,
          81,
          67,
          25,
          0,
          0,
          27,
          60,
          67,
          72,
          80,
          72,
          74,
          48,
          66,
          78,
          64,
          69,
          60,
          75,
          58,
          63,
          76,
          65,
          36,
          59,
          62,
          57,
          60,
          77,
          73,
          75,
          62,
          63,
          56,
          71,
          77,
          74,
          72,
          68,
          78,
          37,
          64,
          77,
          73,
          80,
          58,
          75,
          66,
          71,
          76
         ]
        },
        {
         "mode": "lines+markers",
         "name": "Interrupts/sec",
         "type": "scatter",
         "x": [
          "2023-06-02T10:25:11.557993",
          "2023-06-02T10:25:13.681123",
          "2023-06-02T10:25:15.812075",
          "2023-06-02T10:25:17.937081",
          "2023-06-02T10:25:20.063120",
          "2023-06-02T10:25:22.183436",
          "2023-06-02T10:25:24.496406",
          "2023-06-02T10:25:26.620577",
          "2023-06-02T10:25:28.739454",
          "2023-06-02T10:25:30.917957",
          "2023-06-02T10:25:33.040288",
          "2023-06-02T10:25:35.179417",
          "2023-06-02T10:25:37.302354",
          "2023-06-02T10:25:39.427252",
          "2023-06-02T10:25:41.546388",
          "2023-06-02T10:25:43.667396",
          "2023-06-02T10:25:45.788243",
          "2023-06-02T10:25:47.910620",
          "2023-06-02T10:25:50.034648",
          "2023-06-02T10:25:52.156997",
          "2023-06-02T10:25:54.281360",
          "2023-06-02T10:25:56.442672",
          "2023-06-02T10:25:58.561966",
          "2023-06-02T10:26:00.688633",
          "2023-06-02T10:26:02.812474",
          "2023-06-02T10:26:04.938304",
          "2023-06-02T10:26:07.058501",
          "2023-06-02T10:26:09.197486",
          "2023-06-02T10:26:11.320016",
          "2023-06-02T10:26:13.440915",
          "2023-06-02T10:26:15.566599",
          "2023-06-02T10:26:17.692503",
          "2023-06-02T10:26:19.817295",
          "2023-06-02T10:26:21.945277",
          "2023-06-02T10:26:24.070144",
          "2023-06-02T10:26:26.196505",
          "2023-06-02T10:26:28.315539",
          "2023-06-02T10:26:30.431894",
          "2023-06-02T10:26:32.562917",
          "2023-06-02T10:26:34.689849",
          "2023-06-02T10:26:36.809465",
          "2023-06-02T10:26:38.936348",
          "2023-06-02T10:26:41.068529",
          "2023-06-02T10:26:43.192539",
          "2023-06-02T10:26:45.311191",
          "2023-06-02T10:26:47.437447",
          "2023-06-02T10:26:49.554617",
          "2023-06-02T10:26:51.678755",
          "2023-06-02T10:26:53.848558",
          "2023-06-02T10:26:55.979163",
          "2023-06-02T10:26:58.106908",
          "2023-06-02T10:27:00.228862",
          "2023-06-02T10:27:02.599169",
          "2023-06-02T10:27:05.134293",
          "2023-06-02T10:27:07.333952",
          "2023-06-02T10:27:09.461334",
          "2023-06-02T10:27:11.585712",
          "2023-06-02T10:27:13.716017",
          "2023-06-02T10:27:15.844289",
          "2023-06-02T10:27:17.966084",
          "2023-06-02T10:27:20.096733",
          "2023-06-02T10:27:22.216440",
          "2023-06-02T10:27:24.343579",
          "2023-06-02T10:27:26.473747",
          "2023-06-02T10:27:28.603904",
          "2023-06-02T10:27:30.733717",
          "2023-06-02T10:27:32.883712",
          "2023-06-02T10:27:35.078723",
          "2023-06-02T10:27:37.243043",
          "2023-06-02T10:27:39.373694",
          "2023-06-02T10:27:41.504225",
          "2023-06-02T10:27:43.634266",
          "2023-06-02T10:27:45.759569",
          "2023-06-02T10:27:47.908564",
          "2023-06-02T10:27:50.045664",
          "2023-06-02T10:27:52.178281",
          "2023-06-02T10:27:54.305693",
          "2023-06-02T10:27:56.455405",
          "2023-06-02T10:27:58.586144",
          "2023-06-02T10:28:00.718481",
          "2023-06-02T10:28:02.850482",
          "2023-06-02T10:28:04.985368",
          "2023-06-02T10:28:07.173269",
          "2023-06-02T10:28:09.300273",
          "2023-06-02T10:28:11.438692",
          "2023-06-02T10:28:13.564641",
          "2023-06-02T10:28:15.725126",
          "2023-06-02T10:28:17.846334",
          "2023-06-02T10:28:19.990684",
          "2023-06-02T10:28:22.119274",
          "2023-06-02T10:28:24.243354",
          "2023-06-02T10:28:26.370642",
          "2023-06-02T10:28:28.499275",
          "2023-06-02T10:28:30.625024",
          "2023-06-02T10:28:32.774587",
          "2023-06-02T10:28:34.907796",
          "2023-06-02T10:28:37.054600",
          "2023-06-02T10:28:39.203459",
          "2023-06-02T10:28:41.332516",
          "2023-06-02T10:28:43.477435"
         ],
         "y": [
          22224,
          28300,
          15829,
          22562,
          23548,
          17259,
          17035,
          19640,
          21818,
          27610,
          56440,
          20568,
          16733,
          16496,
          19400,
          23154,
          16023,
          19016,
          17534,
          18020,
          19112,
          19793,
          20188,
          15983,
          18462,
          21102,
          18988,
          15800,
          18407,
          22644,
          14899,
          17069,
          17549,
          21114,
          15654,
          18148,
          25019,
          17811,
          16347,
          17923,
          19328,
          19171,
          15256,
          21968,
          16843,
          15945,
          16873,
          35767,
          18236,
          14886,
          21815,
          28383,
          53003,
          38456,
          48628,
          24490,
          22572,
          22853,
          17161,
          22699,
          21289,
          26684,
          18899,
          21852,
          28523,
          19597,
          49273,
          36348,
          19717,
          17825,
          25110,
          25023,
          19682,
          28025,
          26583,
          21775,
          18815,
          22008,
          23195,
          17594,
          19765,
          25700,
          17966,
          18504,
          20659,
          26748,
          19187,
          19046,
          19746,
          18896,
          35940,
          20018,
          23023,
          19649,
          20376,
          19223,
          21259,
          16745,
          19224,
          27450
         ],
         "yaxis": "y2"
        }
       ],
       "layout": {
        "template": {
         "data": {
          "bar": [
           {
            "error_x": {
             "color": "#2a3f5f"
            },
            "error_y": {
             "color": "#2a3f5f"
            },
            "marker": {
             "line": {
              "color": "#E5ECF6",
              "width": 0.5
             },
             "pattern": {
              "fillmode": "overlay",
              "size": 10,
              "solidity": 0.2
             }
            },
            "type": "bar"
           }
          ],
          "barpolar": [
           {
            "marker": {
             "line": {
              "color": "#E5ECF6",
              "width": 0.5
             },
             "pattern": {
              "fillmode": "overlay",
              "size": 10,
              "solidity": 0.2
             }
            },
            "type": "barpolar"
           }
          ],
          "carpet": [
           {
            "aaxis": {
             "endlinecolor": "#2a3f5f",
             "gridcolor": "white",
             "linecolor": "white",
             "minorgridcolor": "white",
             "startlinecolor": "#2a3f5f"
            },
            "baxis": {
             "endlinecolor": "#2a3f5f",
             "gridcolor": "white",
             "linecolor": "white",
             "minorgridcolor": "white",
             "startlinecolor": "#2a3f5f"
            },
            "type": "carpet"
           }
          ],
          "choropleth": [
           {
            "colorbar": {
             "outlinewidth": 0,
             "ticks": ""
            },
            "type": "choropleth"
           }
          ],
          "contour": [
           {
            "colorbar": {
             "outlinewidth": 0,
             "ticks": ""
            },
            "colorscale": [
             [
              0,
              "#0d0887"
             ],
             [
              0.1111111111111111,
              "#46039f"
             ],
             [
              0.2222222222222222,
              "#7201a8"
             ],
             [
              0.3333333333333333,
              "#9c179e"
             ],
             [
              0.4444444444444444,
              "#bd3786"
             ],
             [
              0.5555555555555556,
              "#d8576b"
             ],
             [
              0.6666666666666666,
              "#ed7953"
             ],
             [
              0.7777777777777778,
              "#fb9f3a"
             ],
             [
              0.8888888888888888,
              "#fdca26"
             ],
             [
              1,
              "#f0f921"
             ]
            ],
            "type": "contour"
           }
          ],
          "contourcarpet": [
           {
            "colorbar": {
             "outlinewidth": 0,
             "ticks": ""
            },
            "type": "contourcarpet"
           }
          ],
          "heatmap": [
           {
            "colorbar": {
             "outlinewidth": 0,
             "ticks": ""
            },
            "colorscale": [
             [
              0,
              "#0d0887"
             ],
             [
              0.1111111111111111,
              "#46039f"
             ],
             [
              0.2222222222222222,
              "#7201a8"
             ],
             [
              0.3333333333333333,
              "#9c179e"
             ],
             [
              0.4444444444444444,
              "#bd3786"
             ],
             [
              0.5555555555555556,
              "#d8576b"
             ],
             [
              0.6666666666666666,
              "#ed7953"
             ],
             [
              0.7777777777777778,
              "#fb9f3a"
             ],
             [
              0.8888888888888888,
              "#fdca26"
             ],
             [
              1,
              "#f0f921"
             ]
            ],
            "type": "heatmap"
           }
          ],
          "heatmapgl": [
           {
            "colorbar": {
             "outlinewidth": 0,
             "ticks": ""
            },
            "colorscale": [
             [
              0,
              "#0d0887"
             ],
             [
              0.1111111111111111,
              "#46039f"
             ],
             [
              0.2222222222222222,
              "#7201a8"
             ],
             [
              0.3333333333333333,
              "#9c179e"
             ],
             [
              0.4444444444444444,
              "#bd3786"
             ],
             [
              0.5555555555555556,
              "#d8576b"
             ],
             [
              0.6666666666666666,
              "#ed7953"
             ],
             [
              0.7777777777777778,
              "#fb9f3a"
             ],
             [
              0.8888888888888888,
              "#fdca26"
             ],
             [
              1,
              "#f0f921"
             ]
            ],
            "type": "heatmapgl"
           }
          ],
          "histogram": [
           {
            "marker": {
             "pattern": {
              "fillmode": "overlay",
              "size": 10,
              "solidity": 0.2
             }
            },
            "type": "histogram"
           }
          ],
          "histogram2d": [
           {
            "colorbar": {
             "outlinewidth": 0,
             "ticks": ""
            },
            "colorscale": [
             [
              0,
              "#0d0887"
             ],
             [
              0.1111111111111111,
              "#46039f"
             ],
             [
              0.2222222222222222,
              "#7201a8"
             ],
             [
              0.3333333333333333,
              "#9c179e"
             ],
             [
              0.4444444444444444,
              "#bd3786"
             ],
             [
              0.5555555555555556,
              "#d8576b"
             ],
             [
              0.6666666666666666,
              "#ed7953"
             ],
             [
              0.7777777777777778,
              "#fb9f3a"
             ],
             [
              0.8888888888888888,
              "#fdca26"
             ],
             [
              1,
              "#f0f921"
             ]
            ],
            "type": "histogram2d"
           }
          ],
          "histogram2dcontour": [
           {
            "colorbar": {
             "outlinewidth": 0,
             "ticks": ""
            },
            "colorscale": [
             [
              0,
              "#0d0887"
             ],
             [
              0.1111111111111111,
              "#46039f"
             ],
             [
              0.2222222222222222,
              "#7201a8"
             ],
             [
              0.3333333333333333,
              "#9c179e"
             ],
             [
              0.4444444444444444,
              "#bd3786"
             ],
             [
              0.5555555555555556,
              "#d8576b"
             ],
             [
              0.6666666666666666,
              "#ed7953"
             ],
             [
              0.7777777777777778,
              "#fb9f3a"
             ],
             [
              0.8888888888888888,
              "#fdca26"
             ],
             [
              1,
              "#f0f921"
             ]
            ],
            "type": "histogram2dcontour"
           }
          ],
          "mesh3d": [
           {
            "colorbar": {
             "outlinewidth": 0,
             "ticks": ""
            },
            "type": "mesh3d"
           }
          ],
          "parcoords": [
           {
            "line": {
             "colorbar": {
              "outlinewidth": 0,
              "ticks": ""
             }
            },
            "type": "parcoords"
           }
          ],
          "pie": [
           {
            "automargin": true,
            "type": "pie"
           }
          ],
          "scatter": [
           {
            "fillpattern": {
             "fillmode": "overlay",
             "size": 10,
             "solidity": 0.2
            },
            "type": "scatter"
           }
          ],
          "scatter3d": [
           {
            "line": {
             "colorbar": {
              "outlinewidth": 0,
              "ticks": ""
             }
            },
            "marker": {
             "colorbar": {
              "outlinewidth": 0,
              "ticks": ""
             }
            },
            "type": "scatter3d"
           }
          ],
          "scattercarpet": [
           {
            "marker": {
             "colorbar": {
              "outlinewidth": 0,
              "ticks": ""
             }
            },
            "type": "scattercarpet"
           }
          ],
          "scattergeo": [
           {
            "marker": {
             "colorbar": {
              "outlinewidth": 0,
              "ticks": ""
             }
            },
            "type": "scattergeo"
           }
          ],
          "scattergl": [
           {
            "marker": {
             "colorbar": {
              "outlinewidth": 0,
              "ticks": ""
             }
            },
            "type": "scattergl"
           }
          ],
          "scattermapbox": [
           {
            "marker": {
             "colorbar": {
              "outlinewidth": 0,
              "ticks": ""
             }
            },
            "type": "scattermapbox"
           }
          ],
          "scatterpolar": [
           {
            "marker": {
             "colorbar": {
              "outlinewidth": 0,
              "ticks": ""
             }
            },
            "type": "scatterpolar"
           }
          ],
          "scatterpolargl": [
           {
            "marker": {
             "colorbar": {
              "outlinewidth": 0,
              "ticks": ""
             }
            },
            "type": "scatterpolargl"
           }
          ],
          "scatterternary": [
           {
            "marker": {
             "colorbar": {
              "outlinewidth": 0,
              "ticks": ""
             }
            },
            "type": "scatterternary"
           }
          ],
          "surface": [
           {
            "colorbar": {
             "outlinewidth": 0,
             "ticks": ""
            },
            "colorscale": [
             [
              0,
              "#0d0887"
             ],
             [
              0.1111111111111111,
              "#46039f"
             ],
             [
              0.2222222222222222,
              "#7201a8"
             ],
             [
              0.3333333333333333,
              "#9c179e"
             ],
             [
              0.4444444444444444,
              "#bd3786"
             ],
             [
              0.5555555555555556,
              "#d8576b"
             ],
             [
              0.6666666666666666,
              "#ed7953"
             ],
             [
              0.7777777777777778,
              "#fb9f3a"
             ],
             [
              0.8888888888888888,
              "#fdca26"
             ],
             [
              1,
              "#f0f921"
             ]
            ],
            "type": "surface"
           }
          ],
          "table": [
           {
            "cells": {
             "fill": {
              "color": "#EBF0F8"
             },
             "line": {
              "color": "white"
             }
            },
            "header": {
             "fill": {
              "color": "#C8D4E3"
             },
             "line": {
              "color": "white"
             }
            },
            "type": "table"
           }
          ]
         },
         "layout": {
          "annotationdefaults": {
           "arrowcolor": "#2a3f5f",
           "arrowhead": 0,
           "arrowwidth": 1
          },
          "autotypenumbers": "strict",
          "coloraxis": {
           "colorbar": {
            "outlinewidth": 0,
            "ticks": ""
           }
          },
          "colorscale": {
           "diverging": [
            [
             0,
             "#8e0152"
            ],
            [
             0.1,
             "#c51b7d"
            ],
            [
             0.2,
             "#de77ae"
            ],
            [
             0.3,
             "#f1b6da"
            ],
            [
             0.4,
             "#fde0ef"
            ],
            [
             0.5,
             "#f7f7f7"
            ],
            [
             0.6,
             "#e6f5d0"
            ],
            [
             0.7,
             "#b8e186"
            ],
            [
             0.8,
             "#7fbc41"
            ],
            [
             0.9,
             "#4d9221"
            ],
            [
             1,
             "#276419"
            ]
           ],
           "sequential": [
            [
             0,
             "#0d0887"
            ],
            [
             0.1111111111111111,
             "#46039f"
            ],
            [
             0.2222222222222222,
             "#7201a8"
            ],
            [
             0.3333333333333333,
             "#9c179e"
            ],
            [
             0.4444444444444444,
             "#bd3786"
            ],
            [
             0.5555555555555556,
             "#d8576b"
            ],
            [
             0.6666666666666666,
             "#ed7953"
            ],
            [
             0.7777777777777778,
             "#fb9f3a"
            ],
            [
             0.8888888888888888,
             "#fdca26"
            ],
            [
             1,
             "#f0f921"
            ]
           ],
           "sequentialminus": [
            [
             0,
             "#0d0887"
            ],
            [
             0.1111111111111111,
             "#46039f"
            ],
            [
             0.2222222222222222,
             "#7201a8"
            ],
            [
             0.3333333333333333,
             "#9c179e"
            ],
            [
             0.4444444444444444,
             "#bd3786"
            ],
            [
             0.5555555555555556,
             "#d8576b"
            ],
            [
             0.6666666666666666,
             "#ed7953"
            ],
            [
             0.7777777777777778,
             "#fb9f3a"
            ],
            [
             0.8888888888888888,
             "#fdca26"
            ],
            [
             1,
             "#f0f921"
            ]
           ]
          },
          "colorway": [
           "#636efa",
           "#EF553B",
           "#00cc96",
           "#ab63fa",
           "#FFA15A",
           "#19d3f3",
           "#FF6692",
           "#B6E880",
           "#FF97FF",
           "#FECB52"
          ],
          "font": {
           "color": "#2a3f5f"
          },
          "geo": {
           "bgcolor": "white",
           "lakecolor": "white",
           "landcolor": "#E5ECF6",
           "showlakes": true,
           "showland": true,
           "subunitcolor": "white"
          },
          "hoverlabel": {
           "align": "left"
          },
          "hovermode": "closest",
          "mapbox": {
           "style": "light"
          },
          "paper_bgcolor": "white",
          "plot_bgcolor": "#E5ECF6",
          "polar": {
           "angularaxis": {
            "gridcolor": "white",
            "linecolor": "white",
            "ticks": ""
           },
           "bgcolor": "#E5ECF6",
           "radialaxis": {
            "gridcolor": "white",
            "linecolor": "white",
            "ticks": ""
           }
          },
          "scene": {
           "xaxis": {
            "backgroundcolor": "#E5ECF6",
            "gridcolor": "white",
            "gridwidth": 2,
            "linecolor": "white",
            "showbackground": true,
            "ticks": "",
            "zerolinecolor": "white"
           },
           "yaxis": {
            "backgroundcolor": "#E5ECF6",
            "gridcolor": "white",
            "gridwidth": 2,
            "linecolor": "white",
            "showbackground": true,
            "ticks": "",
            "zerolinecolor": "white"
           },
           "zaxis": {
            "backgroundcolor": "#E5ECF6",
            "gridcolor": "white",
            "gridwidth": 2,
            "linecolor": "white",
            "showbackground": true,
            "ticks": "",
            "zerolinecolor": "white"
           }
          },
          "shapedefaults": {
           "line": {
            "color": "#2a3f5f"
           }
          },
          "ternary": {
           "aaxis": {
            "gridcolor": "white",
            "linecolor": "white",
            "ticks": ""
           },
           "baxis": {
            "gridcolor": "white",
            "linecolor": "white",
            "ticks": ""
           },
           "bgcolor": "#E5ECF6",
           "caxis": {
            "gridcolor": "white",
            "linecolor": "white",
            "ticks": ""
           }
          },
          "title": {
           "x": 0.05
          },
          "xaxis": {
           "automargin": true,
           "gridcolor": "white",
           "linecolor": "white",
           "ticks": "",
           "title": {
            "standoff": 15
           },
           "zerolinecolor": "white",
           "zerolinewidth": 2
          },
          "yaxis": {
           "automargin": true,
           "gridcolor": "white",
           "linecolor": "white",
           "ticks": "",
           "title": {
            "standoff": 15
           },
           "zerolinecolor": "white",
           "zerolinewidth": 2
          }
         }
        },
        "xaxis": {
         "domain": [
          0.3,
          0.7
         ]
        },
        "yaxis": {
         "tickfont": {
          "color": "blue"
         },
         "title": {
          "font": {
           "color": "blue"
          },
          "text": "% Idle Time"
         }
        },
        "yaxis2": {
         "anchor": "free",
         "overlaying": "y",
         "side": "right",
         "tickfont": {
          "color": "red"
         },
         "title": {
          "font": {
           "color": "red"
          },
          "text": "Interrupts/sec"
         }
        }
       }
      }
     },
     "metadata": {},
     "output_type": "display_data"
    }
   ],
   "source": [
    "import plotly.graph_objects as go\n",
    "from IPython.display import display, clear_output\n",
    "import time\n",
    "from datetime import datetime\n",
    "import random\n",
    "\n",
    "# These are placeholders. Replace with your actual function calls.\n",
    "# def GetPerformanceAttributes(category, counter, instance):\n",
    "#     if counter == \"% Idle Time\":\n",
    "#         return random.random() * 100\n",
    "#     elif counter == \"Interrupts/sec\":\n",
    "#         return random.randint(0, 1000)\n",
    "#     else:\n",
    "#         return None\n",
    "\n",
    "x, y1, y2 = [], [], []\n",
    "\n",
    "for i in range(100):\n",
    "    time.sleep(0.1)  # simulate time delay\n",
    "\n",
    "    # Add new data\n",
    "    y1.append(GetPerformanceAttributes(\"Processor\", \"% Idle Time\", \"_Total\"))\n",
    "    y2.append(GetPerformanceAttributes(\"Processor\", \"Interrupts/sec\", \"_Total\"))\n",
    "    x.append(datetime.now())\n",
    "    \n",
    "    # Clear current figure\n",
    "    clear_output(wait=True)\n",
    "    \n",
    "    # Create new figure and display it\n",
    "    fig = go.Figure()\n",
    "\n",
    "    # Add traces\n",
    "    fig.add_trace(go.Scatter(x=x, y=y1, mode='lines+markers', name='% Idle Time'))\n",
    "    fig.add_trace(go.Scatter(x=x, y=y2, mode='lines+markers', name='Interrupts/sec', yaxis='y2'))\n",
    "\n",
    "    # Create axis objects\n",
    "    fig.update_layout(\n",
    "        xaxis=dict(domain=[0.3, 0.7]),\n",
    "        yaxis=dict(title='% Idle Time', titlefont=dict(color='blue'), tickfont=dict(color='blue')),\n",
    "        yaxis2=dict(title='Interrupts/sec', titlefont=dict(color='red'), tickfont=dict(color='red'), anchor='free', overlaying='y', side='right')\n",
    "    )\n",
    "\n",
    "    display(fig)\n"
   ]
  },
  {
   "cell_type": "code",
   "execution_count": 34,
   "metadata": {},
   "outputs": [
    {
     "data": {
      "application/vnd.plotly.v1+json": {
       "config": {
        "plotlyServerURL": "https://plot.ly"
       },
       "data": [
        {
         "mode": "lines+markers",
         "name": "% Idle Time",
         "type": "scatter",
         "x": [
          "2023-06-02T10:44:38.763457",
          "2023-06-02T10:44:40.797858",
          "2023-06-02T10:44:42.833145",
          "2023-06-02T10:44:44.878340",
          "2023-06-02T10:44:46.914829",
          "2023-06-02T10:44:48.966163",
          "2023-06-02T10:44:50.998946",
          "2023-06-02T10:44:53.031799",
          "2023-06-02T10:44:55.068276",
          "2023-06-02T10:44:57.110394",
          "2023-06-02T10:44:59.164240",
          "2023-06-02T10:45:01.204564",
          "2023-06-02T10:45:03.238428",
          "2023-06-02T10:45:05.287056",
          "2023-06-02T10:45:07.347018",
          "2023-06-02T10:45:09.447644",
          "2023-06-02T10:45:11.470055",
          "2023-06-02T10:45:13.527421",
          "2023-06-02T10:45:15.591956",
          "2023-06-02T10:45:17.620861",
          "2023-06-02T10:45:19.666237",
          "2023-06-02T10:45:21.721584",
          "2023-06-02T10:45:23.769835",
          "2023-06-02T10:45:25.807980",
          "2023-06-02T10:45:27.882691",
          "2023-06-02T10:45:29.923969",
          "2023-06-02T10:45:31.965120",
          "2023-06-02T10:45:34.018395",
          "2023-06-02T10:45:36.058250",
          "2023-06-02T10:45:38.111065",
          "2023-06-02T10:45:40.142484",
          "2023-06-02T10:45:42.181943",
          "2023-06-02T10:45:44.230480",
          "2023-06-02T10:45:46.276821",
          "2023-06-02T10:45:48.335796",
          "2023-06-02T10:45:50.375710",
          "2023-06-02T10:45:52.423966",
          "2023-06-02T10:45:54.482497",
          "2023-06-02T10:45:56.526148",
          "2023-06-02T10:45:58.581830",
          "2023-06-02T10:46:00.632798",
          "2023-06-02T10:46:02.685670",
          "2023-06-02T10:46:04.741280",
          "2023-06-02T10:46:06.783221",
          "2023-06-02T10:46:08.832991",
          "2023-06-02T10:46:10.890706",
          "2023-06-02T10:46:12.936660",
          "2023-06-02T10:46:14.981092",
          "2023-06-02T10:46:17.039569",
          "2023-06-02T10:46:19.074008",
          "2023-06-02T10:46:21.109929",
          "2023-06-02T10:46:23.163902",
          "2023-06-02T10:46:25.211666",
          "2023-06-02T10:46:27.255869",
          "2023-06-02T10:46:29.310740",
          "2023-06-02T10:46:31.379757",
          "2023-06-02T10:46:33.429823",
          "2023-06-02T10:46:35.482524",
          "2023-06-02T10:46:37.528893",
          "2023-06-02T10:46:39.568315",
          "2023-06-02T10:46:41.619437",
          "2023-06-02T10:46:43.690603",
          "2023-06-02T10:46:45.750875",
          "2023-06-02T10:46:47.791900",
          "2023-06-02T10:46:49.833660",
          "2023-06-02T10:46:51.877411",
          "2023-06-02T10:46:53.920914",
          "2023-06-02T10:46:55.971033",
          "2023-06-02T10:46:58.011117",
          "2023-06-02T10:47:00.309298",
          "2023-06-02T10:47:02.386765",
          "2023-06-02T10:47:04.436882",
          "2023-06-02T10:47:06.500935",
          "2023-06-02T10:47:08.565118",
          "2023-06-02T10:47:10.638128",
          "2023-06-02T10:47:12.680144",
          "2023-06-02T10:47:14.740341",
          "2023-06-02T10:47:16.796523",
          "2023-06-02T10:47:18.853915",
          "2023-06-02T10:47:20.911766",
          "2023-06-02T10:47:22.973392",
          "2023-06-02T10:47:25.033691",
          "2023-06-02T10:47:27.069965",
          "2023-06-02T10:47:29.128911",
          "2023-06-02T10:47:31.172295",
          "2023-06-02T10:47:33.233301",
          "2023-06-02T10:47:35.269821",
          "2023-06-02T10:47:37.326665",
          "2023-06-02T10:47:39.373860",
          "2023-06-02T10:47:41.424518",
          "2023-06-02T10:47:43.475777",
          "2023-06-02T10:47:45.517049",
          "2023-06-02T10:47:47.573853",
          "2023-06-02T10:47:49.633788",
          "2023-06-02T10:47:51.699285",
          "2023-06-02T10:47:53.760700",
          "2023-06-02T10:47:55.816783",
          "2023-06-02T10:47:57.877942",
          "2023-06-02T10:47:59.924849",
          "2023-06-02T10:48:01.980791"
         ],
         "y": [
          59,
          53,
          75,
          53,
          79,
          73,
          79,
          79,
          78,
          63,
          48,
          58,
          72,
          38,
          69,
          48,
          60,
          78,
          47,
          56,
          43,
          48,
          73,
          64,
          80,
          57,
          54,
          58,
          58,
          71,
          79,
          82,
          75,
          61,
          84,
          70,
          84,
          74,
          81,
          82,
          59,
          77,
          74,
          80,
          79,
          79,
          82,
          80,
          82,
          74,
          67,
          60,
          49,
          73,
          47,
          74,
          79,
          69,
          80,
          76,
          80,
          72,
          64,
          81,
          78,
          84,
          68,
          80,
          79,
          38,
          49,
          49,
          43,
          75,
          77,
          83,
          66,
          83,
          76,
          80,
          79,
          72,
          84,
          69,
          74,
          83,
          81,
          83,
          72,
          70,
          79,
          81,
          63,
          75,
          84,
          79,
          79,
          82,
          78,
          79
         ]
        },
        {
         "mode": "lines+markers",
         "name": "Interrupts/sec",
         "type": "scatter",
         "x": [
          "2023-06-02T10:44:38.763457",
          "2023-06-02T10:44:40.797858",
          "2023-06-02T10:44:42.833145",
          "2023-06-02T10:44:44.878340",
          "2023-06-02T10:44:46.914829",
          "2023-06-02T10:44:48.966163",
          "2023-06-02T10:44:50.998946",
          "2023-06-02T10:44:53.031799",
          "2023-06-02T10:44:55.068276",
          "2023-06-02T10:44:57.110394",
          "2023-06-02T10:44:59.164240",
          "2023-06-02T10:45:01.204564",
          "2023-06-02T10:45:03.238428",
          "2023-06-02T10:45:05.287056",
          "2023-06-02T10:45:07.347018",
          "2023-06-02T10:45:09.447644",
          "2023-06-02T10:45:11.470055",
          "2023-06-02T10:45:13.527421",
          "2023-06-02T10:45:15.591956",
          "2023-06-02T10:45:17.620861",
          "2023-06-02T10:45:19.666237",
          "2023-06-02T10:45:21.721584",
          "2023-06-02T10:45:23.769835",
          "2023-06-02T10:45:25.807980",
          "2023-06-02T10:45:27.882691",
          "2023-06-02T10:45:29.923969",
          "2023-06-02T10:45:31.965120",
          "2023-06-02T10:45:34.018395",
          "2023-06-02T10:45:36.058250",
          "2023-06-02T10:45:38.111065",
          "2023-06-02T10:45:40.142484",
          "2023-06-02T10:45:42.181943",
          "2023-06-02T10:45:44.230480",
          "2023-06-02T10:45:46.276821",
          "2023-06-02T10:45:48.335796",
          "2023-06-02T10:45:50.375710",
          "2023-06-02T10:45:52.423966",
          "2023-06-02T10:45:54.482497",
          "2023-06-02T10:45:56.526148",
          "2023-06-02T10:45:58.581830",
          "2023-06-02T10:46:00.632798",
          "2023-06-02T10:46:02.685670",
          "2023-06-02T10:46:04.741280",
          "2023-06-02T10:46:06.783221",
          "2023-06-02T10:46:08.832991",
          "2023-06-02T10:46:10.890706",
          "2023-06-02T10:46:12.936660",
          "2023-06-02T10:46:14.981092",
          "2023-06-02T10:46:17.039569",
          "2023-06-02T10:46:19.074008",
          "2023-06-02T10:46:21.109929",
          "2023-06-02T10:46:23.163902",
          "2023-06-02T10:46:25.211666",
          "2023-06-02T10:46:27.255869",
          "2023-06-02T10:46:29.310740",
          "2023-06-02T10:46:31.379757",
          "2023-06-02T10:46:33.429823",
          "2023-06-02T10:46:35.482524",
          "2023-06-02T10:46:37.528893",
          "2023-06-02T10:46:39.568315",
          "2023-06-02T10:46:41.619437",
          "2023-06-02T10:46:43.690603",
          "2023-06-02T10:46:45.750875",
          "2023-06-02T10:46:47.791900",
          "2023-06-02T10:46:49.833660",
          "2023-06-02T10:46:51.877411",
          "2023-06-02T10:46:53.920914",
          "2023-06-02T10:46:55.971033",
          "2023-06-02T10:46:58.011117",
          "2023-06-02T10:47:00.309298",
          "2023-06-02T10:47:02.386765",
          "2023-06-02T10:47:04.436882",
          "2023-06-02T10:47:06.500935",
          "2023-06-02T10:47:08.565118",
          "2023-06-02T10:47:10.638128",
          "2023-06-02T10:47:12.680144",
          "2023-06-02T10:47:14.740341",
          "2023-06-02T10:47:16.796523",
          "2023-06-02T10:47:18.853915",
          "2023-06-02T10:47:20.911766",
          "2023-06-02T10:47:22.973392",
          "2023-06-02T10:47:25.033691",
          "2023-06-02T10:47:27.069965",
          "2023-06-02T10:47:29.128911",
          "2023-06-02T10:47:31.172295",
          "2023-06-02T10:47:33.233301",
          "2023-06-02T10:47:35.269821",
          "2023-06-02T10:47:37.326665",
          "2023-06-02T10:47:39.373860",
          "2023-06-02T10:47:41.424518",
          "2023-06-02T10:47:43.475777",
          "2023-06-02T10:47:45.517049",
          "2023-06-02T10:47:47.573853",
          "2023-06-02T10:47:49.633788",
          "2023-06-02T10:47:51.699285",
          "2023-06-02T10:47:53.760700",
          "2023-06-02T10:47:55.816783",
          "2023-06-02T10:47:57.877942",
          "2023-06-02T10:47:59.924849",
          "2023-06-02T10:48:01.980791"
         ],
         "y": [
          32153,
          16264,
          22221,
          17409,
          14345,
          14769,
          15271,
          18911,
          24721,
          21508,
          28162,
          25998,
          31596,
          30398,
          20248,
          15975,
          23890,
          40234,
          20701,
          34612,
          18906,
          21425,
          34625,
          22139,
          24456,
          39418,
          20923,
          21332,
          19265,
          18898,
          17549,
          13800,
          13230,
          10032,
          23899,
          14652,
          12462,
          13378,
          11025,
          17321,
          14538,
          15497,
          13653,
          15377,
          14351,
          9738,
          17255,
          12920,
          12412,
          10839,
          10149,
          26083,
          23889,
          13318,
          12418,
          12932,
          23207,
          15235,
          12861,
          13530,
          17477,
          22420,
          17289,
          15791,
          12506,
          11713,
          16279,
          9059,
          20668,
          27074,
          30055,
          12817,
          14746,
          21054,
          11164,
          14550,
          14490,
          11849,
          13114,
          10312,
          16810,
          15731,
          13666,
          9911,
          9126,
          18937,
          11490,
          12490,
          10729,
          11993,
          18219,
          9196,
          15237,
          12193,
          11444,
          14180,
          8815,
          17130,
          13944,
          13616
         ],
         "yaxis": "y2"
        }
       ],
       "layout": {
        "annotations": [
         {
          "font": {
           "color": "blue"
          },
          "showarrow": false,
          "text": "Average % Idle Time (last 10s): 70.34",
          "x": 0.01,
          "xref": "paper",
          "y": 1.06,
          "yref": "paper"
         },
         {
          "font": {
           "color": "red"
          },
          "showarrow": false,
          "text": "Average Interrupts/sec (last 10s): 17476.07",
          "x": 0.01,
          "xref": "paper",
          "y": 1.02,
          "yref": "paper"
         }
        ],
        "template": {
         "data": {
          "bar": [
           {
            "error_x": {
             "color": "#2a3f5f"
            },
            "error_y": {
             "color": "#2a3f5f"
            },
            "marker": {
             "line": {
              "color": "#E5ECF6",
              "width": 0.5
             },
             "pattern": {
              "fillmode": "overlay",
              "size": 10,
              "solidity": 0.2
             }
            },
            "type": "bar"
           }
          ],
          "barpolar": [
           {
            "marker": {
             "line": {
              "color": "#E5ECF6",
              "width": 0.5
             },
             "pattern": {
              "fillmode": "overlay",
              "size": 10,
              "solidity": 0.2
             }
            },
            "type": "barpolar"
           }
          ],
          "carpet": [
           {
            "aaxis": {
             "endlinecolor": "#2a3f5f",
             "gridcolor": "white",
             "linecolor": "white",
             "minorgridcolor": "white",
             "startlinecolor": "#2a3f5f"
            },
            "baxis": {
             "endlinecolor": "#2a3f5f",
             "gridcolor": "white",
             "linecolor": "white",
             "minorgridcolor": "white",
             "startlinecolor": "#2a3f5f"
            },
            "type": "carpet"
           }
          ],
          "choropleth": [
           {
            "colorbar": {
             "outlinewidth": 0,
             "ticks": ""
            },
            "type": "choropleth"
           }
          ],
          "contour": [
           {
            "colorbar": {
             "outlinewidth": 0,
             "ticks": ""
            },
            "colorscale": [
             [
              0,
              "#0d0887"
             ],
             [
              0.1111111111111111,
              "#46039f"
             ],
             [
              0.2222222222222222,
              "#7201a8"
             ],
             [
              0.3333333333333333,
              "#9c179e"
             ],
             [
              0.4444444444444444,
              "#bd3786"
             ],
             [
              0.5555555555555556,
              "#d8576b"
             ],
             [
              0.6666666666666666,
              "#ed7953"
             ],
             [
              0.7777777777777778,
              "#fb9f3a"
             ],
             [
              0.8888888888888888,
              "#fdca26"
             ],
             [
              1,
              "#f0f921"
             ]
            ],
            "type": "contour"
           }
          ],
          "contourcarpet": [
           {
            "colorbar": {
             "outlinewidth": 0,
             "ticks": ""
            },
            "type": "contourcarpet"
           }
          ],
          "heatmap": [
           {
            "colorbar": {
             "outlinewidth": 0,
             "ticks": ""
            },
            "colorscale": [
             [
              0,
              "#0d0887"
             ],
             [
              0.1111111111111111,
              "#46039f"
             ],
             [
              0.2222222222222222,
              "#7201a8"
             ],
             [
              0.3333333333333333,
              "#9c179e"
             ],
             [
              0.4444444444444444,
              "#bd3786"
             ],
             [
              0.5555555555555556,
              "#d8576b"
             ],
             [
              0.6666666666666666,
              "#ed7953"
             ],
             [
              0.7777777777777778,
              "#fb9f3a"
             ],
             [
              0.8888888888888888,
              "#fdca26"
             ],
             [
              1,
              "#f0f921"
             ]
            ],
            "type": "heatmap"
           }
          ],
          "heatmapgl": [
           {
            "colorbar": {
             "outlinewidth": 0,
             "ticks": ""
            },
            "colorscale": [
             [
              0,
              "#0d0887"
             ],
             [
              0.1111111111111111,
              "#46039f"
             ],
             [
              0.2222222222222222,
              "#7201a8"
             ],
             [
              0.3333333333333333,
              "#9c179e"
             ],
             [
              0.4444444444444444,
              "#bd3786"
             ],
             [
              0.5555555555555556,
              "#d8576b"
             ],
             [
              0.6666666666666666,
              "#ed7953"
             ],
             [
              0.7777777777777778,
              "#fb9f3a"
             ],
             [
              0.8888888888888888,
              "#fdca26"
             ],
             [
              1,
              "#f0f921"
             ]
            ],
            "type": "heatmapgl"
           }
          ],
          "histogram": [
           {
            "marker": {
             "pattern": {
              "fillmode": "overlay",
              "size": 10,
              "solidity": 0.2
             }
            },
            "type": "histogram"
           }
          ],
          "histogram2d": [
           {
            "colorbar": {
             "outlinewidth": 0,
             "ticks": ""
            },
            "colorscale": [
             [
              0,
              "#0d0887"
             ],
             [
              0.1111111111111111,
              "#46039f"
             ],
             [
              0.2222222222222222,
              "#7201a8"
             ],
             [
              0.3333333333333333,
              "#9c179e"
             ],
             [
              0.4444444444444444,
              "#bd3786"
             ],
             [
              0.5555555555555556,
              "#d8576b"
             ],
             [
              0.6666666666666666,
              "#ed7953"
             ],
             [
              0.7777777777777778,
              "#fb9f3a"
             ],
             [
              0.8888888888888888,
              "#fdca26"
             ],
             [
              1,
              "#f0f921"
             ]
            ],
            "type": "histogram2d"
           }
          ],
          "histogram2dcontour": [
           {
            "colorbar": {
             "outlinewidth": 0,
             "ticks": ""
            },
            "colorscale": [
             [
              0,
              "#0d0887"
             ],
             [
              0.1111111111111111,
              "#46039f"
             ],
             [
              0.2222222222222222,
              "#7201a8"
             ],
             [
              0.3333333333333333,
              "#9c179e"
             ],
             [
              0.4444444444444444,
              "#bd3786"
             ],
             [
              0.5555555555555556,
              "#d8576b"
             ],
             [
              0.6666666666666666,
              "#ed7953"
             ],
             [
              0.7777777777777778,
              "#fb9f3a"
             ],
             [
              0.8888888888888888,
              "#fdca26"
             ],
             [
              1,
              "#f0f921"
             ]
            ],
            "type": "histogram2dcontour"
           }
          ],
          "mesh3d": [
           {
            "colorbar": {
             "outlinewidth": 0,
             "ticks": ""
            },
            "type": "mesh3d"
           }
          ],
          "parcoords": [
           {
            "line": {
             "colorbar": {
              "outlinewidth": 0,
              "ticks": ""
             }
            },
            "type": "parcoords"
           }
          ],
          "pie": [
           {
            "automargin": true,
            "type": "pie"
           }
          ],
          "scatter": [
           {
            "fillpattern": {
             "fillmode": "overlay",
             "size": 10,
             "solidity": 0.2
            },
            "type": "scatter"
           }
          ],
          "scatter3d": [
           {
            "line": {
             "colorbar": {
              "outlinewidth": 0,
              "ticks": ""
             }
            },
            "marker": {
             "colorbar": {
              "outlinewidth": 0,
              "ticks": ""
             }
            },
            "type": "scatter3d"
           }
          ],
          "scattercarpet": [
           {
            "marker": {
             "colorbar": {
              "outlinewidth": 0,
              "ticks": ""
             }
            },
            "type": "scattercarpet"
           }
          ],
          "scattergeo": [
           {
            "marker": {
             "colorbar": {
              "outlinewidth": 0,
              "ticks": ""
             }
            },
            "type": "scattergeo"
           }
          ],
          "scattergl": [
           {
            "marker": {
             "colorbar": {
              "outlinewidth": 0,
              "ticks": ""
             }
            },
            "type": "scattergl"
           }
          ],
          "scattermapbox": [
           {
            "marker": {
             "colorbar": {
              "outlinewidth": 0,
              "ticks": ""
             }
            },
            "type": "scattermapbox"
           }
          ],
          "scatterpolar": [
           {
            "marker": {
             "colorbar": {
              "outlinewidth": 0,
              "ticks": ""
             }
            },
            "type": "scatterpolar"
           }
          ],
          "scatterpolargl": [
           {
            "marker": {
             "colorbar": {
              "outlinewidth": 0,
              "ticks": ""
             }
            },
            "type": "scatterpolargl"
           }
          ],
          "scatterternary": [
           {
            "marker": {
             "colorbar": {
              "outlinewidth": 0,
              "ticks": ""
             }
            },
            "type": "scatterternary"
           }
          ],
          "surface": [
           {
            "colorbar": {
             "outlinewidth": 0,
             "ticks": ""
            },
            "colorscale": [
             [
              0,
              "#0d0887"
             ],
             [
              0.1111111111111111,
              "#46039f"
             ],
             [
              0.2222222222222222,
              "#7201a8"
             ],
             [
              0.3333333333333333,
              "#9c179e"
             ],
             [
              0.4444444444444444,
              "#bd3786"
             ],
             [
              0.5555555555555556,
              "#d8576b"
             ],
             [
              0.6666666666666666,
              "#ed7953"
             ],
             [
              0.7777777777777778,
              "#fb9f3a"
             ],
             [
              0.8888888888888888,
              "#fdca26"
             ],
             [
              1,
              "#f0f921"
             ]
            ],
            "type": "surface"
           }
          ],
          "table": [
           {
            "cells": {
             "fill": {
              "color": "#EBF0F8"
             },
             "line": {
              "color": "white"
             }
            },
            "header": {
             "fill": {
              "color": "#C8D4E3"
             },
             "line": {
              "color": "white"
             }
            },
            "type": "table"
           }
          ]
         },
         "layout": {
          "annotationdefaults": {
           "arrowcolor": "#2a3f5f",
           "arrowhead": 0,
           "arrowwidth": 1
          },
          "autotypenumbers": "strict",
          "coloraxis": {
           "colorbar": {
            "outlinewidth": 0,
            "ticks": ""
           }
          },
          "colorscale": {
           "diverging": [
            [
             0,
             "#8e0152"
            ],
            [
             0.1,
             "#c51b7d"
            ],
            [
             0.2,
             "#de77ae"
            ],
            [
             0.3,
             "#f1b6da"
            ],
            [
             0.4,
             "#fde0ef"
            ],
            [
             0.5,
             "#f7f7f7"
            ],
            [
             0.6,
             "#e6f5d0"
            ],
            [
             0.7,
             "#b8e186"
            ],
            [
             0.8,
             "#7fbc41"
            ],
            [
             0.9,
             "#4d9221"
            ],
            [
             1,
             "#276419"
            ]
           ],
           "sequential": [
            [
             0,
             "#0d0887"
            ],
            [
             0.1111111111111111,
             "#46039f"
            ],
            [
             0.2222222222222222,
             "#7201a8"
            ],
            [
             0.3333333333333333,
             "#9c179e"
            ],
            [
             0.4444444444444444,
             "#bd3786"
            ],
            [
             0.5555555555555556,
             "#d8576b"
            ],
            [
             0.6666666666666666,
             "#ed7953"
            ],
            [
             0.7777777777777778,
             "#fb9f3a"
            ],
            [
             0.8888888888888888,
             "#fdca26"
            ],
            [
             1,
             "#f0f921"
            ]
           ],
           "sequentialminus": [
            [
             0,
             "#0d0887"
            ],
            [
             0.1111111111111111,
             "#46039f"
            ],
            [
             0.2222222222222222,
             "#7201a8"
            ],
            [
             0.3333333333333333,
             "#9c179e"
            ],
            [
             0.4444444444444444,
             "#bd3786"
            ],
            [
             0.5555555555555556,
             "#d8576b"
            ],
            [
             0.6666666666666666,
             "#ed7953"
            ],
            [
             0.7777777777777778,
             "#fb9f3a"
            ],
            [
             0.8888888888888888,
             "#fdca26"
            ],
            [
             1,
             "#f0f921"
            ]
           ]
          },
          "colorway": [
           "#636efa",
           "#EF553B",
           "#00cc96",
           "#ab63fa",
           "#FFA15A",
           "#19d3f3",
           "#FF6692",
           "#B6E880",
           "#FF97FF",
           "#FECB52"
          ],
          "font": {
           "color": "#2a3f5f"
          },
          "geo": {
           "bgcolor": "white",
           "lakecolor": "white",
           "landcolor": "#E5ECF6",
           "showlakes": true,
           "showland": true,
           "subunitcolor": "white"
          },
          "hoverlabel": {
           "align": "left"
          },
          "hovermode": "closest",
          "mapbox": {
           "style": "light"
          },
          "paper_bgcolor": "white",
          "plot_bgcolor": "#E5ECF6",
          "polar": {
           "angularaxis": {
            "gridcolor": "white",
            "linecolor": "white",
            "ticks": ""
           },
           "bgcolor": "#E5ECF6",
           "radialaxis": {
            "gridcolor": "white",
            "linecolor": "white",
            "ticks": ""
           }
          },
          "scene": {
           "xaxis": {
            "backgroundcolor": "#E5ECF6",
            "gridcolor": "white",
            "gridwidth": 2,
            "linecolor": "white",
            "showbackground": true,
            "ticks": "",
            "zerolinecolor": "white"
           },
           "yaxis": {
            "backgroundcolor": "#E5ECF6",
            "gridcolor": "white",
            "gridwidth": 2,
            "linecolor": "white",
            "showbackground": true,
            "ticks": "",
            "zerolinecolor": "white"
           },
           "zaxis": {
            "backgroundcolor": "#E5ECF6",
            "gridcolor": "white",
            "gridwidth": 2,
            "linecolor": "white",
            "showbackground": true,
            "ticks": "",
            "zerolinecolor": "white"
           }
          },
          "shapedefaults": {
           "line": {
            "color": "#2a3f5f"
           }
          },
          "ternary": {
           "aaxis": {
            "gridcolor": "white",
            "linecolor": "white",
            "ticks": ""
           },
           "baxis": {
            "gridcolor": "white",
            "linecolor": "white",
            "ticks": ""
           },
           "bgcolor": "#E5ECF6",
           "caxis": {
            "gridcolor": "white",
            "linecolor": "white",
            "ticks": ""
           }
          },
          "title": {
           "x": 0.05
          },
          "xaxis": {
           "automargin": true,
           "gridcolor": "white",
           "linecolor": "white",
           "ticks": "",
           "title": {
            "standoff": 15
           },
           "zerolinecolor": "white",
           "zerolinewidth": 2
          },
          "yaxis": {
           "automargin": true,
           "gridcolor": "white",
           "linecolor": "white",
           "ticks": "",
           "title": {
            "standoff": 15
           },
           "zerolinecolor": "white",
           "zerolinewidth": 2
          }
         }
        },
        "xaxis": {
         "domain": [
          0.3,
          0.7
         ]
        },
        "yaxis": {
         "tickfont": {
          "color": "blue"
         },
         "title": {
          "font": {
           "color": "blue"
          },
          "text": "% Idle Time"
         }
        },
        "yaxis2": {
         "anchor": "free",
         "overlaying": "y",
         "side": "right",
         "tickfont": {
          "color": "red"
         },
         "title": {
          "font": {
           "color": "red"
          },
          "text": "Interrupts/sec"
         }
        }
       }
      }
     },
     "metadata": {},
     "output_type": "display_data"
    }
   ],
   "source": [
    "import plotly.graph_objects as go\n",
    "from IPython.display import display, clear_output\n",
    "import time\n",
    "from datetime import datetime\n",
    "import random\n",
    "\n",
    "# These are placeholders. Replace with your actual function calls.\n",
    "# def GetPerformanceAttributes(category, counter, instance):\n",
    "#     if counter == \"% Idle Time\":\n",
    "#         return random.random() * 100\n",
    "#     elif counter == \"Interrupts/sec\":\n",
    "#         return random.randint(0, 1000)\n",
    "#     else:\n",
    "#         return None\n",
    "\n",
    "x, y1, y2, y3, y4 = [], [], []\n",
    "y1_sum, y2_sum, y3_sum, y4_sum = 0.0, 0.0, 0.0, 0.0\n",
    "\n",
    "for i in range(100):\n",
    "    # time.sleep(0.1)  # simulate time delay\n",
    "\n",
    "    # Add new data\n",
    "    y1_value = GetPerformanceAttributes(\"Processor\", \"% Idle Time\", \"_Total\")\n",
    "    y2_value = GetPerformanceAttributes(\"Processor\", \"Interrupts/sec\", \"_Total\")\n",
    "    y1.append(y1_value)\n",
    "    y2.append(y2_value)\n",
    "    x.append(datetime.now())\n",
    "\n",
    "    y1_sum += y1_value\n",
    "    y2_sum += y2_value\n",
    "\n",
    "    # If we have more than 100 data points, subtract the oldest one from the sum\n",
    "    if len(y1) > 100:\n",
    "        y1_sum -= y1.pop(0)\n",
    "        y2_sum -= y2.pop(0)\n",
    "        x.pop(0)\n",
    "\n",
    "    y1_avg = y1_sum / len(y1)\n",
    "    y2_avg = y2_sum / len(y2)\n",
    "\n",
    "    # Clear current figure\n",
    "    clear_output(wait=True)\n",
    "    \n",
    "    # Create new figure and display it\n",
    "    fig = go.Figure()\n",
    "\n",
    "    # Add traces\n",
    "    fig.add_trace(go.Scatter(x=x, y=y1, mode='lines+markers', name='% Idle Time'))\n",
    "    fig.add_trace(go.Scatter(x=x, y=y2, mode='lines+markers', name='Interrupts/sec', yaxis='y2'))\n",
    "\n",
    "    # Create axis objects\n",
    "    fig.update_layout(\n",
    "        xaxis=dict(domain=[0.3, 0.7]),\n",
    "        yaxis=dict(title='% Idle Time', titlefont=dict(color='blue'), tickfont=dict(color='blue')),\n",
    "        yaxis2=dict(title='Interrupts/sec', titlefont=dict(color='red'), tickfont=dict(color='red'), anchor='free', overlaying='y', side='right'),\n",
    "        annotations=[\n",
    "            dict(x=0.01, y=1.06, xref='paper', yref='paper', text=f'Average % Idle Time (last 10s): {y1_avg:.2f}', showarrow=False, font=dict(color='blue')),\n",
    "            dict(x=0.01, y=1.02, xref='paper', yref='paper', text=f'Average Interrupts/sec (last 10s): {y2_avg:.2f}', showarrow=False, font=dict(color='red')),\n",
    "        ]\n",
    "    )\n",
    "\n",
    "    display(fig)\n"
   ]
  },
  {
   "cell_type": "code",
   "execution_count": null,
   "metadata": {},
   "outputs": [],
   "source": []
  }
 ],
 "metadata": {
  "kernelspec": {
   "display_name": "base",
   "language": "python",
   "name": "python3"
  },
  "language_info": {
   "codemirror_mode": {
    "name": "ipython",
    "version": 3
   },
   "file_extension": ".py",
   "mimetype": "text/x-python",
   "name": "python",
   "nbconvert_exporter": "python",
   "pygments_lexer": "ipython3",
   "version": "3.9.12"
  },
  "orig_nbformat": 4
 },
 "nbformat": 4,
 "nbformat_minor": 2
}
